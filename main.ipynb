{
 "cells": [
  {
   "cell_type": "code",
   "execution_count": 71,
   "id": "71d0c5bb",
   "metadata": {},
   "outputs": [],
   "source": [
    "import yfinance as yf\n",
    "import pandas as pd\n",
    "import numpy as np\n",
    "from ta import add_all_ta_features\n",
    "from sklearn.model_selection import train_test_split\n",
    "from sklearn.metrics import mean_squared_error, r2_score\n",
    "from xgboost import XGBRegressor\n",
    "import matplotlib.pyplot as plt\n",
    "import streamlit as st"
   ]
  },
  {
   "cell_type": "code",
   "execution_count": 72,
   "id": "a046690a",
   "metadata": {},
   "outputs": [],
   "source": [
    "# 1. Data Collection\n",
    "def load_data(ticker, start, end):\n",
    "    data = yf.download(ticker, start=start, end=end)\n",
    "    return data"
   ]
  },
  {
   "cell_type": "code",
   "execution_count": 73,
   "id": "43d82813",
   "metadata": {},
   "outputs": [],
   "source": [
    "# 2. Data Cleaning & Preparation\n",
    "def prepare_data(data):\n",
    "    data = data.dropna()\n",
    "    data = add_lagged_features(data)\n",
    "    return data\n",
    "\n",
    "def add_lagged_features(data):\n",
    "    for col in ['Open', 'High', 'Low', 'Close', 'Volume']:\n",
    "        for lag in [1, 3, 5]:\n",
    "            data[f'{col}_lag{lag}'] = data[col].shift(lag)\n",
    "    return data"
   ]
  },
  {
   "cell_type": "code",
   "execution_count": 74,
   "id": "b8071f30",
   "metadata": {},
   "outputs": [],
   "source": [
    "# 3. Feature Engineering\n",
    "def engineer_features(data):\n",
    "    # Ensure required columns exist and are not all NaN\n",
    "    required_cols = [\"Open\", \"High\", \"Low\", \"Close\", \"Volume\"]\n",
    "    for col in required_cols:\n",
    "        if col not in data.columns:\n",
    "            print(f\"Column '{col}' is missing.\")\n",
    "            return pd.DataFrame()  # Return empty DataFrame to trigger error handling\n",
    "        if data[col].isnull().all():\n",
    "            print(f\"Column '{col}' contains only NaN values.\")\n",
    "            return pd.DataFrame()  # Return empty DataFrame to trigger error handling\n",
    "\n",
    "    # Technical indicators\n",
    "    data = add_all_ta_features(\n",
    "        data, open=\"Open\", high=\"High\", low=\"Low\", close=\"Close\", volume=\"Volume\", fillna=True\n",
    "    )\n",
    "    # ...existing code...\n",
    "    data['rolling_mean_5'] = data['Close'].rolling(5).mean()\n",
    "    data['rolling_std_5'] = data['Close'].rolling(5).std()\n",
    "    data['return_1'] = data['Close'].pct_change(1)\n",
    "    data['return_3'] = data['Close'].pct_change(3)\n",
    "    data['return_5'] = data['Close'].pct_change(5)\n",
    "    data['volatility'] = data['return_1'].rolling(5).std().shift(-1)\n",
    "    data = data.dropna()\n",
    "    return data"
   ]
  },
  {
   "cell_type": "code",
   "execution_count": 75,
   "id": "4e00a691",
   "metadata": {},
   "outputs": [],
   "source": [
    "# 4. Train-Test Split\n",
    "def split_data(data):\n",
    "    X = data.drop(['volatility'], axis=1)\n",
    "    y = data['volatility']\n",
    "    X_train, X_test, y_train, y_test = train_test_split(X, y, test_size=0.2, shuffle=False)\n",
    "    return X_train, X_test, y_train, y_test"
   ]
  },
  {
   "cell_type": "code",
   "execution_count": 76,
   "id": "05cc8f1b",
   "metadata": {},
   "outputs": [],
   "source": [
    "# 5. Modeling\n",
    "def train_model(X_train, y_train):\n",
    "    model = XGBRegressor()\n",
    "    model.fit(X_train, y_train)\n",
    "    return model"
   ]
  },
  {
   "cell_type": "code",
   "execution_count": 77,
   "id": "dc538d9d",
   "metadata": {},
   "outputs": [],
   "source": [
    "# 6. Model Evaluation\n",
    "def evaluate_model(model, X_test, y_test):\n",
    "    y_pred = model.predict(X_test)\n",
    "    rmse = np.sqrt(mean_squared_error(y_test, y_pred))\n",
    "    r2 = r2_score(y_test, y_pred)\n",
    "    plt.figure(figsize=(10,5))\n",
    "    plt.plot(y_test.index, y_test, label='Actual')\n",
    "    plt.plot(y_test.index, y_pred, label='Predicted')\n",
    "    plt.title('Predicted vs Actual Volatility')\n",
    "    plt.legend()\n",
    "    plt.show()\n",
    "    importance = model.feature_importances_\n",
    "    return rmse, r2, importance"
   ]
  },
  {
   "cell_type": "code",
   "execution_count": 78,
   "id": "5d176652",
   "metadata": {},
   "outputs": [
    {
     "name": "stdout",
     "output_type": "stream",
     "text": [
      "Enter stock ticker, start date (YYYY-MM-DD), and end date (YYYY-MM-DD):\n"
     ]
    },
    {
     "name": "stderr",
     "output_type": "stream",
     "text": [
      "/tmp/ipykernel_4221/2216650249.py:3: FutureWarning: YF.download() has changed argument auto_adjust default to True\n",
      "  data = yf.download(ticker, start=start, end=end)\n",
      "[*********************100%***********************]  1 of 1 completed\n"
     ]
    },
    {
     "ename": "ValueError",
     "evalue": "The truth value of a Series is ambiguous. Use a.empty, a.bool(), a.item(), a.any() or a.all().",
     "output_type": "error",
     "traceback": [
      "\u001b[31m---------------------------------------------------------------------------\u001b[39m",
      "\u001b[31mValueError\u001b[39m                                Traceback (most recent call last)",
      "\u001b[32m/tmp/ipykernel_4221/68018355.py\u001b[39m in \u001b[36m?\u001b[39m\u001b[34m()\u001b[39m\n\u001b[32m     32\u001b[39m     \u001b[38;5;28;01mif\u001b[39;00m data.empty:\n\u001b[32m     33\u001b[39m         print(\u001b[33m\"No data found for the given ticker and date range.\"\u001b[39m)\n\u001b[32m     34\u001b[39m     \u001b[38;5;28;01melse\u001b[39;00m:\n\u001b[32m     35\u001b[39m         data = prepare_data(data)\n\u001b[32m---> \u001b[39m\u001b[32m36\u001b[39m         data = engineer_features(data)\n\u001b[32m     37\u001b[39m         \u001b[38;5;28;01mif\u001b[39;00m data.empty \u001b[38;5;28;01mor\u001b[39;00m len(data) < \u001b[32m30\u001b[39m:\n\u001b[32m     38\u001b[39m             print(\u001b[33m\"Not enough data after cleaning and feature engineering. Try a wider date range.\"\u001b[39m)\n\u001b[32m     39\u001b[39m         \u001b[38;5;28;01melse\u001b[39;00m:\n",
      "\u001b[32m/tmp/ipykernel_4221/4086738100.py\u001b[39m in \u001b[36m?\u001b[39m\u001b[34m(data)\u001b[39m\n\u001b[32m      5\u001b[39m     \u001b[38;5;28;01mfor\u001b[39;00m col \u001b[38;5;28;01min\u001b[39;00m required_cols:\n\u001b[32m      6\u001b[39m         \u001b[38;5;28;01mif\u001b[39;00m col \u001b[38;5;28;01mnot\u001b[39;00m \u001b[38;5;28;01min\u001b[39;00m data.columns:\n\u001b[32m      7\u001b[39m             print(f\"Column '{col}' is missing.\")\n\u001b[32m      8\u001b[39m             \u001b[38;5;28;01mreturn\u001b[39;00m pd.DataFrame()  \u001b[38;5;66;03m# Return empty DataFrame to trigger error handling\u001b[39;00m\n\u001b[32m----> \u001b[39m\u001b[32m9\u001b[39m         \u001b[38;5;28;01mif\u001b[39;00m data[col].isnull().all():\n\u001b[32m     10\u001b[39m             print(f\"Column '{col}' contains only NaN values.\")\n\u001b[32m     11\u001b[39m             \u001b[38;5;28;01mreturn\u001b[39;00m pd.DataFrame()  \u001b[38;5;66;03m# Return empty DataFrame to trigger error handling\u001b[39;00m\n\u001b[32m     12\u001b[39m \n",
      "\u001b[32m~/.local/lib/python3.12/site-packages/pandas/core/generic.py\u001b[39m in \u001b[36m?\u001b[39m\u001b[34m(self)\u001b[39m\n\u001b[32m   1575\u001b[39m     @final\n\u001b[32m   1576\u001b[39m     \u001b[38;5;28;01mdef\u001b[39;00m __nonzero__(self) -> NoReturn:\n\u001b[32m-> \u001b[39m\u001b[32m1577\u001b[39m         raise ValueError(\n\u001b[32m   1578\u001b[39m             f\"The truth value of a {type(self).__name__} is ambiguous. \"\n\u001b[32m   1579\u001b[39m             \u001b[33m\"Use a.empty, a.bool(), a.item(), a.any() or a.all().\"\u001b[39m\n\u001b[32m   1580\u001b[39m         )\n",
      "\u001b[31mValueError\u001b[39m: The truth value of a Series is ambiguous. Use a.empty, a.bool(), a.item(), a.any() or a.all()."
     ]
    }
   ],
   "source": [
    "# 7. Optional Deployment: Streamlit App\n",
    "def run_streamlit():\n",
    "    st.title(\"Stock Volatility Prediction App\")\n",
    "    ticker = st.text_input(\"Ticker Symbol (e.g. AAPL)\", \"AAPL\")\n",
    "    start = st.date_input(\"Start Date\", pd.to_datetime(\"2015-01-01\"))\n",
    "    end = st.date_input(\"End Date\", pd.to_datetime(\"2025-08-13\"))\n",
    "    if st.button(\"Predict Volatility\"):\n",
    "        with st.spinner(\"Downloading and processing data...\"):\n",
    "            data = load_data(ticker, start, end)\n",
    "            if data.empty:\n",
    "                st.error(\"No data found for the given ticker and date range.\")\n",
    "                return\n",
    "            data = prepare_data(data)\n",
    "            data = engineer_features(data)\n",
    "            if data.empty or len(data) < 30:\n",
    "                st.error(\"Not enough data after cleaning and feature engineering. Try a wider date range.\")\n",
    "                return\n",
    "            X_train, X_test, y_train, y_test = split_data(data)\n",
    "            model = train_model(X_train, y_train)\n",
    "            y_pred = model.predict(X_test)\n",
    "        st.line_chart(pd.DataFrame({'Actual': y_test, 'Predicted': y_pred}, index=y_test.index))\n",
    "        st.write(f\"RMSE: {np.sqrt(mean_squared_error(y_test, y_pred)):.4f}\")\n",
    "        st.write(f\"R²: {r2_score(y_test, y_pred):.4f}\")\n",
    "        st.bar_chart(pd.Series(model.feature_importances_, index=X_train.columns))\n",
    "\n",
    "if __name__ == \"__main__\":\n",
    "    print(\"Enter stock ticker, start date (YYYY-MM-DD), and end date (YYYY-MM-DD):\")\n",
    "    ticker = input(\"Ticker: \").strip().upper()\n",
    "    start = input(\"Start Date (YYYY-MM-DD): \").strip()\n",
    "    end = input(\"End Date (YYYY-MM-DD): \").strip()\n",
    "    data = load_data(ticker, start, end)\n",
    "    if data.empty:\n",
    "        print(\"No data found for the given ticker and date range.\")\n",
    "    else:\n",
    "        data = prepare_data(data)\n",
    "        data = engineer_features(data)\n",
    "        if data.empty or len(data) < 30:\n",
    "            print(\"Not enough data after cleaning and feature engineering. Try a wider date range.\")\n",
    "        else:\n",
    "            X_train, X_test, y_train, y_test = split_data(data)\n",
    "            model = train_model(X_train, y_train)\n",
    "            rmse, r2, importance = evaluate_model(model, X_test, y_test)\n",
    "            print(f\"RMSE: {rmse:.4f}\")\n",
    "            print(f\"R²: {r2:.4f}\")"
   ]
  },
  {
   "cell_type": "code",
   "execution_count": null,
   "id": "0bba0f95",
   "metadata": {},
   "outputs": [
    {
     "name": "stderr",
     "output_type": "stream",
     "text": [
      "2025-09-24 07:56:18.558 Thread 'MainThread': missing ScriptRunContext! This warning can be ignored when running in bare mode.\n",
      "2025-09-24 07:56:18.559 Thread 'MainThread': missing ScriptRunContext! This warning can be ignored when running in bare mode.\n",
      "2025-09-24 07:56:18.559 Thread 'MainThread': missing ScriptRunContext! This warning can be ignored when running in bare mode.\n",
      "2025-09-24 07:56:18.560 Thread 'MainThread': missing ScriptRunContext! This warning can be ignored when running in bare mode.\n",
      "2025-09-24 07:56:18.560 Thread 'MainThread': missing ScriptRunContext! This warning can be ignored when running in bare mode.\n",
      "2025-09-24 07:56:18.561 Thread 'MainThread': missing ScriptRunContext! This warning can be ignored when running in bare mode.\n",
      "2025-09-24 07:56:18.562 Thread 'MainThread': missing ScriptRunContext! This warning can be ignored when running in bare mode.\n",
      "2025-09-24 07:56:18.562 Thread 'MainThread': missing ScriptRunContext! This warning can be ignored when running in bare mode.\n",
      "2025-09-24 07:56:18.564 Thread 'MainThread': missing ScriptRunContext! This warning can be ignored when running in bare mode.\n",
      "2025-09-24 07:56:18.564 Thread 'MainThread': missing ScriptRunContext! This warning can be ignored when running in bare mode.\n",
      "2025-09-24 07:56:18.566 Thread 'MainThread': missing ScriptRunContext! This warning can be ignored when running in bare mode.\n",
      "2025-09-24 07:56:18.567 Thread 'MainThread': missing ScriptRunContext! This warning can be ignored when running in bare mode.\n",
      "2025-09-24 07:56:18.567 Thread 'MainThread': missing ScriptRunContext! This warning can be ignored when running in bare mode.\n",
      "2025-09-24 07:56:18.568 Thread 'MainThread': missing ScriptRunContext! This warning can be ignored when running in bare mode.\n",
      "2025-09-24 07:56:18.569 Thread 'MainThread': missing ScriptRunContext! This warning can be ignored when running in bare mode.\n",
      "2025-09-24 07:56:18.569 Thread 'MainThread': missing ScriptRunContext! This warning can be ignored when running in bare mode.\n",
      "2025-09-24 07:56:18.571 Thread 'MainThread': missing ScriptRunContext! This warning can be ignored when running in bare mode.\n",
      "2025-09-24 07:56:18.572 Thread 'MainThread': missing ScriptRunContext! This warning can be ignored when running in bare mode.\n",
      "2025-09-24 07:56:18.572 Thread 'MainThread': missing ScriptRunContext! This warning can be ignored when running in bare mode.\n",
      "2025-09-24 07:56:18.573 Thread 'MainThread': missing ScriptRunContext! This warning can be ignored when running in bare mode.\n",
      "2025-09-24 07:56:18.574 Thread 'MainThread': missing ScriptRunContext! This warning can be ignored when running in bare mode.\n",
      "2025-09-24 07:56:18.574 Thread 'MainThread': missing ScriptRunContext! This warning can be ignored when running in bare mode.\n",
      "2025-09-24 07:56:18.576 Thread 'MainThread': missing ScriptRunContext! This warning can be ignored when running in bare mode.\n",
      "2025-09-24 07:56:18.576 Thread 'MainThread': missing ScriptRunContext! This warning can be ignored when running in bare mode.\n",
      "2025-09-24 07:56:18.577 Thread 'MainThread': missing ScriptRunContext! This warning can be ignored when running in bare mode.\n",
      "2025-09-24 07:56:18.577 Thread 'MainThread': missing ScriptRunContext! This warning can be ignored when running in bare mode.\n",
      "2025-09-24 07:56:18.578 Thread 'MainThread': missing ScriptRunContext! This warning can be ignored when running in bare mode.\n",
      "2025-09-24 07:56:18.578 Thread 'MainThread': missing ScriptRunContext! This warning can be ignored when running in bare mode.\n"
     ]
    }
   ],
   "source": [
    "run_streamlit()"
   ]
  }
 ],
 "metadata": {
  "kernelspec": {
   "display_name": "Python 3",
   "language": "python",
   "name": "python3"
  },
  "language_info": {
   "codemirror_mode": {
    "name": "ipython",
    "version": 3
   },
   "file_extension": ".py",
   "mimetype": "text/x-python",
   "name": "python",
   "nbconvert_exporter": "python",
   "pygments_lexer": "ipython3",
   "version": "3.12.1"
  }
 },
 "nbformat": 4,
 "nbformat_minor": 5
}
