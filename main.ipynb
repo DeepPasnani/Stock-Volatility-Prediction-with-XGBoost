{
 "cells": [
  {
   "cell_type": "code",
   "execution_count": null,
   "id": "71d0c5bb",
   "metadata": {
    "vscode": {
     "languageId": "plaintext"
    }
   },
   "outputs": [],
   "source": [
    "import yfinance as yf\n",
    "import pandas as pd\n",
    "import numpy as np\n",
    "from ta import add_all_ta_features\n",
    "from sklearn.model_selection import train_test_split\n",
    "from sklearn.metrics import mean_squared_error, r2_score\n",
    "from xgboost import XGBRegressor\n",
    "import matplotlib.pyplot as plt\n",
    "import streamlit as st"
   ]
  },
  {
   "cell_type": "code",
   "execution_count": null,
   "id": "a046690a",
   "metadata": {
    "vscode": {
     "languageId": "plaintext"
    }
   },
   "outputs": [],
   "source": [
    "# 1. Data Collection\n",
    "def load_data(ticker, start, end):\n",
    "    data = yf.download(ticker, start=start, end=end)\n",
    "    return data"
   ]
  },
  {
   "cell_type": "code",
   "execution_count": null,
   "id": "43d82813",
   "metadata": {
    "vscode": {
     "languageId": "plaintext"
    }
   },
   "outputs": [],
   "source": [
    "# 2. Data Cleaning & Preparation\n",
    "def prepare_data(data):\n",
    "    data = data.dropna()\n",
    "    data = add_lagged_features(data)\n",
    "    return data\n",
    "\n",
    "def add_lagged_features(data):\n",
    "    for col in ['Open', 'High', 'Low', 'Close', 'Volume']:\n",
    "        for lag in [1, 3, 5]:\n",
    "            data[f'{col}_lag{lag}'] = data[col].shift(lag)\n",
    "    return data"
   ]
  },
  {
   "cell_type": "code",
   "execution_count": null,
   "id": "b8071f30",
   "metadata": {
    "vscode": {
     "languageId": "plaintext"
    }
   },
   "outputs": [],
   "source": [
    "# 3. Feature Engineering\n",
    "def engineer_features(data):\n",
    "    # Ensure required columns exist and are not all NaN\n",
    "    required_cols = [\"Open\", \"High\", \"Low\", \"Close\", \"Volume\"]\n",
    "    for col in required_cols:\n",
    "        if col not in data.columns or data[col].isnull().all():\n",
    "            print(f\"Column '{col}' is missing or contains only NaN values.\")\n",
    "            return pd.DataFrame()  # Return empty DataFrame to trigger error handling\n",
    "\n",
    "    # Technical indicators\n",
    "    data = add_all_ta_features(\n",
    "        data, open=\"Open\", high=\"High\", low=\"Low\", close=\"Close\", volume=\"Volume\", fillna=True\n",
    "    )\n",
    "    # ...existing code...\n",
    "    data['rolling_mean_5'] = data['Close'].rolling(5).mean()\n",
    "    data['rolling_std_5'] = data['Close'].rolling(5).std()\n",
    "    data['return_1'] = data['Close'].pct_change(1)\n",
    "    data['return_3'] = data['Close'].pct_change(3)\n",
    "    data['return_5'] = data['Close'].pct_change(5)\n",
    "    data['volatility'] = data['return_1'].rolling(5).std().shift(-1)\n",
    "    data = data.dropna()\n",
    "    return data"
   ]
  },
  {
   "cell_type": "code",
   "execution_count": null,
   "id": "4e00a691",
   "metadata": {
    "vscode": {
     "languageId": "plaintext"
    }
   },
   "outputs": [],
   "source": [
    "# 4. Train-Test Split\n",
    "def split_data(data):\n",
    "    X = data.drop(['volatility'], axis=1)\n",
    "    y = data['volatility']\n",
    "    X_train, X_test, y_train, y_test = train_test_split(X, y, test_size=0.2, shuffle=False)\n",
    "    return X_train, X_test, y_train, y_test"
   ]
  },
  {
   "cell_type": "code",
   "execution_count": null,
   "id": "05cc8f1b",
   "metadata": {
    "vscode": {
     "languageId": "plaintext"
    }
   },
   "outputs": [],
   "source": [
    "# 5. Modeling\n",
    "def train_model(X_train, y_train):\n",
    "    model = XGBRegressor()\n",
    "    model.fit(X_train, y_train)\n",
    "    return model"
   ]
  },
  {
   "cell_type": "code",
   "execution_count": null,
   "id": "dc538d9d",
   "metadata": {
    "vscode": {
     "languageId": "plaintext"
    }
   },
   "outputs": [],
   "source": [
    "# 6. Model Evaluation\n",
    "def evaluate_model(model, X_test, y_test):\n",
    "    y_pred = model.predict(X_test)\n",
    "    rmse = np.sqrt(mean_squared_error(y_test, y_pred))\n",
    "    r2 = r2_score(y_test, y_pred)\n",
    "    plt.figure(figsize=(10,5))\n",
    "    plt.plot(y_test.index, y_test, label='Actual')\n",
    "    plt.plot(y_test.index, y_pred, label='Predicted')\n",
    "    plt.title('Predicted vs Actual Volatility')\n",
    "    plt.legend()\n",
    "    plt.show()\n",
    "    importance = model.feature_importances_\n",
    "    return rmse, r2, importance"
   ]
  },
  {
   "cell_type": "code",
   "execution_count": null,
   "id": "5d176652",
   "metadata": {
    "vscode": {
     "languageId": "plaintext"
    }
   },
   "outputs": [],
   "source": [
    "# 7. Optional Deployment: Streamlit App\n",
    "def run_streamlit():\n",
    "    st.title(\"Stock Volatility Prediction App\")\n",
    "    ticker = st.text_input(\"Ticker Symbol (e.g. AAPL)\", \"AAPL\")\n",
    "    start = st.date_input(\"Start Date\", pd.to_datetime(\"2015-01-01\"))\n",
    "    end = st.date_input(\"End Date\", pd.to_datetime(\"2025-08-13\"))\n",
    "    if st.button(\"Predict Volatility\"):\n",
    "        with st.spinner(\"Downloading and processing data...\"):\n",
    "            data = load_data(ticker, start, end)\n",
    "            if data.empty:\n",
    "                st.error(\"No data found for the given ticker and date range.\")\n",
    "                return\n",
    "            data = prepare_data(data)\n",
    "            data = engineer_features(data)\n",
    "            if data.empty or len(data) < 30:\n",
    "                st.error(\"Not enough data after cleaning and feature engineering. Try a wider date range.\")\n",
    "                return\n",
    "            X_train, X_test, y_train, y_test = split_data(data)\n",
    "            model = train_model(X_train, y_train)\n",
    "            y_pred = model.predict(X_test)\n",
    "        st.line_chart(pd.DataFrame({'Actual': y_test, 'Predicted': y_pred}, index=y_test.index))\n",
    "        st.write(f\"RMSE: {np.sqrt(mean_squared_error(y_test, y_pred)):.4f}\")\n",
    "        st.write(f\"R²: {r2_score(y_test, y_pred):.4f}\")\n",
    "        st.bar_chart(pd.Series(model.feature_importances_, index=X_train.columns))\n",
    "\n",
    "if __name__ == \"__main__\":\n",
    "    print(\"Enter stock ticker, start date (YYYY-MM-DD), and end date (YYYY-MM-DD):\")\n",
    "    ticker = input(\"Ticker: \").strip().upper()\n",
    "    start = input(\"Start Date (YYYY-MM-DD): \").strip()\n",
    "    end = input(\"End Date (YYYY-MM-DD): \").strip()\n",
    "    data = load_data(ticker, start, end)\n",
    "    if data.empty:\n",
    "        print(\"No data found for the given ticker and date range.\")\n",
    "    else:\n",
    "        data = prepare_data(data)\n",
    "        data = engineer_features(data)\n",
    "        if data.empty or len(data) < 30:\n",
    "            print(\"Not enough data after cleaning and feature engineering. Try a wider date range.\")\n",
    "        else:\n",
    "            X_train, X_test, y_train, y_test = split_data(data)\n",
    "            model = train_model(X_train, y_train)\n",
    "            rmse, r2, importance = evaluate_model(model, X_test, y_test)\n",
    "            print(f\"RMSE: {rmse:.4f}\")\n",
    "            print(f\"R²: {r2:.4f}\")"
   ]
  },
  {
   "cell_type": "code",
   "execution_count": null,
   "id": "0bba0f95",
   "metadata": {
    "vscode": {
     "languageId": "plaintext"
    }
   },
   "outputs": [],
   "source": [
    "run_streamlit()"
   ]
  }
 ],
 "metadata": {
  "language_info": {
   "name": "python"
  }
 },
 "nbformat": 4,
 "nbformat_minor": 5
}
